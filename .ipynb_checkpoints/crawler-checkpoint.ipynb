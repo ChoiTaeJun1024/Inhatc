{
 "cells": [
  {
   "cell_type": "code",
   "execution_count": 12,
   "id": "22782cbb",
   "metadata": {},
   "outputs": [],
   "source": [
    "from selenium import webdriver\n",
    "from selenium.webdriver.common.by import By\n",
    "\n",
    "search_url = \"https://kosis.kr/statHtml/statHtml.do?orgId=101&tblId=INH_1B8000F_01&conn_path=I2\"\n",
    "\n",
    "options = webdriver.ChromeOptions()\n",
    "options.add_experimental_option(\"excludeSwitches\", [\"enable-logging\"])\n",
    "browser = webdriver.Chrome('C:/Users/chlqn/Data_Science/3_2_BigData/Project/chromedriver.exe', options=options) # chromedriver 다운받고, 다운 받은 경로 써주어야함\n",
    "browser.get(search_url)\n",
    "\n",
    "browser.implicitly_wait(2)\n",
    "\n",
    "name = browser.find_elements(By.CLASS_NAME, \"text\")\n",
    "\n",
    "for i in range(len(name)):\n",
    "    print(name[i].text)\n",
    "    \n",
    "browser.close()"
   ]
  },
  {
   "cell_type": "code",
   "execution_count": 19,
   "id": "19f23f9c",
   "metadata": {},
   "outputs": [
    {
     "data": {
      "text/plain": [
       "[]"
      ]
     },
     "execution_count": 19,
     "metadata": {},
     "output_type": "execute_result"
    }
   ],
   "source": [
    "import requests\n",
    "from bs4 import BeautifulSoup\n",
    "\n",
    "url = \"https://kosis.kr/statHtml/statHtml.do?orgId=101&tblId=INH_1B8000F_01&conn_path=I2\"\n",
    "baby_main = requests.get(url)\n",
    "baby_main_list = BeautifulSoup(baby_main.content, \"html.parser\", from_encoding='utf=8')\n",
    "\n",
    "link_list = baby_main_list.select('#mainTableT > thead')\n",
    "link_list"
   ]
  },
  {
   "cell_type": "code",
   "execution_count": null,
   "id": "bfa6f8af",
   "metadata": {},
   "outputs": [],
   "source": [
    "from selenium import webdriver\n",
    "\n",
    "driver = webdriver.Chrome('C:/Users/chlqn/Data_Science/3_2_BigData/Project/chromedriver.exe')\n",
    "# 암묵적으로 웹 자원 로드를 위해 3초 기다려 줌.\n",
    "driver.implicitly_wait(3)"
   ]
  }
 ],
 "metadata": {
  "kernelspec": {
   "display_name": "Python 3 (ipykernel)",
   "language": "python",
   "name": "python3"
  },
  "language_info": {
   "codemirror_mode": {
    "name": "ipython",
    "version": 3
   },
   "file_extension": ".py",
   "mimetype": "text/x-python",
   "name": "python",
   "nbconvert_exporter": "python",
   "pygments_lexer": "ipython3",
   "version": "3.9.7"
  }
 },
 "nbformat": 4,
 "nbformat_minor": 5
}
