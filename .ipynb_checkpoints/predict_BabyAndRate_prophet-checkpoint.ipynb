{
 "cells": [
  {
   "cell_type": "code",
   "execution_count": null,
   "id": "532529e7",
   "metadata": {},
   "outputs": [],
   "source": [
    "!pip install fbprophet\n",
    "!pip install prophet"
   ]
  },
  {
   "cell_type": "code",
   "execution_count": null,
   "id": "139612b6",
   "metadata": {},
   "outputs": [],
   "source": [
    "import pandas as pd\n",
    "import matplotlib.pyplot as plt\n",
    "import matplotlib\n",
    "from scalecast.Forecaster import Forecaster\n",
    "import seaborn as sns\n",
    "from sklearn.metrics import mean_squared_error\n",
    "from pmdarima.arima import ndiffs\n",
    "import pmdarima as pm\n",
    "import numpy as np\n",
    "from plotly.subplots import make_subplots\n",
    "import plotly.graph_objects as go\n",
    "\n",
    "from fbprophet import Prophet\n",
    "\n",
    "df = pd.read_csv('baby_and_rate.csv', encoding='cp949', index_col=0)\n",
    "df"
   ]
  },
  {
   "cell_type": "code",
   "execution_count": null,
   "id": "715b98f7",
   "metadata": {
    "scrolled": true
   },
   "outputs": [],
   "source": [
    "df = df.transpose() # transpose()로 컬럼과 인덱스 변경\n",
    "df.head()"
   ]
  },
  {
   "cell_type": "code",
   "execution_count": null,
   "id": "7e279a06",
   "metadata": {},
   "outputs": [],
   "source": [
    "df.isnull().sum() # null값 파악"
   ]
  },
  {
   "cell_type": "code",
   "execution_count": null,
   "id": "1b4ea305",
   "metadata": {},
   "outputs": [],
   "source": [
    "df_rate = df[['합계출산율']]\n",
    "xs = df_rate.index.astype('int').to_list()\n",
    "ys = df_rate['합계출산율'].to_list()\n",
    "\n",
    "plt.figure(figsize=(10, 6))\n",
    "plt.xlabel('연도')\n",
    "plt.ylabel('합계출산율')\n",
    "\n",
    "# 한글 폰트 사용을 위해서 세팅\n",
    "import matplotlib\n",
    "matplotlib.rcParams['font.family'] ='Malgun Gothic'\n",
    "matplotlib.rcParams['axes.unicode_minus'] =False\n",
    "\n",
    "# 예측데이터 그래프에 색상 입히기\n",
    "barlist = plt.bar(xs, ys)\n",
    "for i in range(len(xs)):\n",
    "    if(xs[i] > 2021):\n",
    "        barlist[i].set_color('#FF895A')\n",
    "\n",
    "plt.xticks(ticks=xs, labels=xs, rotation=45) # rotation : 45도로 비튼다. / labels를 xs기준으로 설정\n",
    "plt.yticks(ticks=ys, labels=ys)\n",
    "plt.locator_params(axis='x', nbins=len(xs)/3) # nbins가 빈도수\n",
    "plt.locator_params(axis='y', nbins=len(ys)/3)\n",
    "plt.show()"
   ]
  },
  {
   "cell_type": "code",
   "execution_count": null,
   "id": "4264c73c",
   "metadata": {
    "scrolled": false
   },
   "outputs": [],
   "source": [
    "df_baby = df[['출생아수 (천명)']]\n",
    "xs = df_baby.index.astype('int').to_list() # 예측한 데이터에 컬러를 입히기 위한 조건식을 위해 정수형으로 변경하여 리스트로 삽입.\n",
    "ys = df_baby['출생아수 (천명)'].to_list()\n",
    "\n",
    "plt.figure(figsize=(10, 6))\n",
    "plt.xlabel('연도')\n",
    "plt.ylabel('출생아수 (천명)')\n",
    "\n",
    "# 한글 폰트 사용을 위해서 세팅\n",
    "import matplotlib\n",
    "matplotlib.rcParams['font.family'] ='Malgun Gothic'\n",
    "matplotlib.rcParams['axes.unicode_minus'] =False\n",
    "\n",
    "# 예측데이터 그래프에 색상 입히기\n",
    "barlist = plt.bar(xs, ys)\n",
    "for i in range(len(xs)):\n",
    "    if(xs[i] > 2021):\n",
    "        barlist[i].set_color('#FFAA28')\n",
    "\n",
    "plt.xticks(ticks=xs, labels=xs, rotation=45) # rotation : 45도로 비튼다. / labels를 xs기준으로 설정\n",
    "plt.yticks(ticks=ys, labels=ys)\n",
    "plt.locator_params(axis='x', nbins=len(xs)/3) # nbins가 빈도수\n",
    "plt.locator_params(axis='y', nbins=len(ys)/10)\n",
    "plt.show()"
   ]
  },
  {
   "cell_type": "code",
   "execution_count": null,
   "id": "7ead121f",
   "metadata": {},
   "outputs": [],
   "source": [
    "# 1970 ~ 2021년 데이터만 추출(22 ~ 70년을 예측할 것이기 때문)\n",
    "df_test_babies = df.iloc[:52, 0] # 출생아수 (천명)\n",
    "df_test_rate = df.iloc[:52, 1] # 합계출산율\n",
    "\n",
    "df_test_babies = pd.DataFrame(df_test_babies)\n",
    "df_test_rate = pd.DataFrame(df_test_rate)"
   ]
  },
  {
   "cell_type": "code",
   "execution_count": null,
   "id": "9870969a",
   "metadata": {
    "scrolled": true
   },
   "outputs": [],
   "source": [
    "df_test_babies.head()"
   ]
  },
  {
   "cell_type": "code",
   "execution_count": null,
   "id": "ccb5ae19",
   "metadata": {
    "scrolled": false
   },
   "outputs": [],
   "source": [
    "df_test_rate.tail()"
   ]
  },
  {
   "cell_type": "code",
   "execution_count": null,
   "id": "daed2371",
   "metadata": {},
   "outputs": [],
   "source": []
  }
 ],
 "metadata": {
  "kernelspec": {
   "display_name": "Python 3 (ipykernel)",
   "language": "python",
   "name": "python3"
  },
  "language_info": {
   "codemirror_mode": {
    "name": "ipython",
    "version": 3
   },
   "file_extension": ".py",
   "mimetype": "text/x-python",
   "name": "python",
   "nbconvert_exporter": "python",
   "pygments_lexer": "ipython3",
   "version": "3.9.13"
  }
 },
 "nbformat": 4,
 "nbformat_minor": 5
}
